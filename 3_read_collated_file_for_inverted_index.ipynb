{
 "cells": [
  {
   "cell_type": "code",
   "execution_count": 1,
   "metadata": {},
   "outputs": [],
   "source": [
    "import os\n",
    "import string\n",
    "import re\n",
    "from nltk.stem import *\n",
    "import nltk\n",
    "import re\n",
    "import math"
   ]
  },
  {
   "cell_type": "code",
   "execution_count": 2,
   "metadata": {},
   "outputs": [],
   "source": [
    "# Global variables\n",
    "folder_path = 'articles_all'\n",
    "file_name = \"collated_data.txt\"\n",
    "file_contents_list = []\n",
    "\n",
    "\n",
    "file_name_number_mapping_dict = {}\n",
    "number_file_name_mapping_dict = {}\n",
    "inverted_index_intermediate = {}\n",
    "inverted_index = {}\n",
    "num_docs = 1\n",
    "idf_dict = {}\n",
    "tf_dict = {}\n",
    "file_to_vec_dict = {}\n",
    "query_to_vec_dict = {}"
   ]
  },
  {
   "cell_type": "code",
   "execution_count": 3,
   "metadata": {},
   "outputs": [],
   "source": [
    "class fileContents:\n",
    "    file_name = \"\"\n",
    "    file_number = 0\n",
    "    contents_raw = \"\"\n",
    "    contents_tokens = []"
   ]
  },
  {
   "cell_type": "code",
   "execution_count": 4,
   "metadata": {},
   "outputs": [],
   "source": [
    "# check\n",
    "def tokenize_and_remove_punctuations(s):\n",
    "    translator = str.maketrans('','',string.punctuation)\n",
    "    modified_string = s.translate(translator)\n",
    "    modified_string = ''.join([i for i in modified_string if not i.isdigit()])\n",
    "    return nltk.word_tokenize(modified_string)"
   ]
  },
  {
   "cell_type": "code",
   "execution_count": 5,
   "metadata": {},
   "outputs": [],
   "source": [
    "def get_stopwords():\n",
    "    stop_words = [word for word in open('stopwords.txt','r').read().split('\\n')]\n",
    "    return stop_words"
   ]
  },
  {
   "cell_type": "code",
   "execution_count": 6,
   "metadata": {},
   "outputs": [],
   "source": [
    "def parse_data(contents):\n",
    "    contents = contents.lower()\n",
    "    title_start = contents.find('<title>')\n",
    "    title_end = contents.find('</title>')\n",
    "    title = contents[title_start+len('<title>'):title_end]\n",
    "    text_start = contents.find('<text>')\n",
    "    text_end = contents.find('</text>')\n",
    "    text = contents[text_start+len('<text>'):text_end]\n",
    "    return title+\" \"+text"
   ]
  },
  {
   "cell_type": "code",
   "execution_count": 7,
   "metadata": {},
   "outputs": [],
   "source": [
    "# check\n",
    "def stem_words(tokens):\n",
    "    stemmer = PorterStemmer()\n",
    "    stemmed_words = [stemmer.stem(token) for token in tokens]\n",
    "    return stemmed_words"
   ]
  },
  {
   "cell_type": "code",
   "execution_count": 8,
   "metadata": {},
   "outputs": [],
   "source": [
    "# check\n",
    "def remove_stop_words(tokens):\n",
    "    stop_words = get_stopwords()\n",
    "    filtered_words = [token for token in tokens if token not in stop_words and len(token) > 2]\n",
    "    return filtered_words"
   ]
  },
  {
   "cell_type": "code",
   "execution_count": 10,
   "metadata": {},
   "outputs": [],
   "source": [
    "def get_vocabulary(data):\n",
    "    tokens = []\n",
    "    for token_list in data.values():\n",
    "        tokens = tokens + token_list\n",
    "    fdist = nltk.FreqDist(tokens)\n",
    "    return list(fdist.keys())"
   ]
  },
  {
   "cell_type": "code",
   "execution_count": 11,
   "metadata": {},
   "outputs": [],
   "source": [
    "# check\n",
    "def preprocess_data(contents):\n",
    "    dataDict = {}\n",
    "    data_list = []\n",
    "    for content in contents:\n",
    "\n",
    "        tokens = tokenize_and_remove_punctuations(content)\n",
    "        filtered_tokens = remove_stop_words(tokens)\n",
    "        stemmed_tokens = stem_words(filtered_tokens)\n",
    "\n",
    "        if len(stemmed_tokens) !=  0:\n",
    "            data_list.append(stemmed_tokens)\n",
    "\n",
    "    return data_list"
   ]
  },
  {
   "cell_type": "code",
   "execution_count": 13,
   "metadata": {},
   "outputs": [],
   "source": [
    "# dont delete\n",
    "def read_data(path):\n",
    "    curr_file_num = 1\n",
    "    \n",
    "    for filename in os.listdir(path):\n",
    "        # print (filename)\n",
    "        if curr_file_num%1000 == 0:\n",
    "            print (curr_file_num)\n",
    "\n",
    "        global file_contents_list\n",
    "\n",
    "        file_data = fileContents()\n",
    "        \n",
    "        data = parse_data(open(path + '/' + filename,'r').read())\n",
    "    \n",
    "        data = data.replace('\\n', ' ').replace(\"'''\", '').replace(\"''\", '').replace(\",\", ' ').strip()\n",
    "\n",
    "        # print (data)\n",
    "        file_data.contents_raw = data\n",
    "        file_data.file_num = curr_file_num\n",
    "        file_data.file_name = filename\n",
    "\n",
    "        data_list = data.split()\n",
    "        file_data.contents_tokens = preprocess_data(data_list)\n",
    "\n",
    "        file_contents_list.append(file_data)\n",
    "\n",
    "        # inverted_index = generate_inverted_index(preprocess_data_dict)\n",
    "        curr_file_num += 1\n",
    "    return  inverted_index "
   ]
  },
  {
   "cell_type": "code",
   "execution_count": 19,
   "metadata": {},
   "outputs": [],
   "source": [
    "#Read tokensied data from file \n",
    "with open(file_name, 'r') as file:\n",
    "    lines = file.readlines()\n",
    "\n",
    "for line in lines:\n",
    "    content = line.split(\"!@#\")\n",
    "    file_content = fileContents()\n",
    "    file_content.file_name = content[0]\n",
    "    file_content.file_number = int(content[1])\n",
    "    file_content.contents_raw = content[2]\n",
    "    file_content.contents_tokens = content[3].replace(\"'], ['\", \",\").replace(\"\\n\", \"\").strip(\"'[]'\").split(',')\n",
    "\n",
    "    file_contents_list.append(file_content)\n",
    "    "
   ]
  },
  {
   "cell_type": "code",
   "execution_count": 20,
   "metadata": {},
   "outputs": [],
   "source": [
    "# Create inverted index\n",
    "\n",
    "for entry in file_contents_list:\n",
    "    for token in entry.contents_tokens:\n",
    "        if token in inverted_index_intermediate.keys():\n",
    "            inverted_index_intermediate[token].append(entry.file_number)\n",
    "        else:\n",
    "            inverted_index_intermediate[token] = [entry.file_number]\n",
    "\n",
    "\n",
    "for key, val in inverted_index_intermediate.items():\n",
    "    temp_dict = {}\n",
    "    # print (key, val)\n",
    "    \n",
    "    for num in val:\n",
    "        if num in temp_dict:\n",
    "            temp_dict[num] += 1\n",
    "        else:\n",
    "            temp_dict[num] = 1\n",
    "    \n",
    "\n",
    "    for key1, val1 in temp_dict.items():\n",
    "        if len(key) > 1:\n",
    "            if key in inverted_index:\n",
    "                inverted_index[key].append([key1, val1])\n",
    "            else:\n",
    "                inverted_index[key] = [[key1, val1]]\n",
    "    \n",
    "\n",
    "with open('inverted_index.txt', 'w') as file:\n",
    "    for key, val in inverted_index.items():\n",
    "\n",
    "        line = key + '\\t' + str(val) + '\\n'\n",
    "        file.write(line) \n",
    "\n"
   ]
  }
 ],
 "metadata": {
  "interpreter": {
   "hash": "916dbcbb3f70747c44a77c7bcd40155683ae19c65e1c03b4aa3499c5328201f1"
  },
  "kernelspec": {
   "display_name": "Python 3.9.7 64-bit",
   "language": "python",
   "name": "python3"
  },
  "language_info": {
   "codemirror_mode": {
    "name": "ipython",
    "version": 3
   },
   "file_extension": ".py",
   "mimetype": "text/x-python",
   "name": "python",
   "nbconvert_exporter": "python",
   "pygments_lexer": "ipython3",
   "version": "3.9.7"
  },
  "orig_nbformat": 4
 },
 "nbformat": 4,
 "nbformat_minor": 2
}

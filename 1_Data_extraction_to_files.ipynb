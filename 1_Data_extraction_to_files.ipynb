{
  "cells": [
    {
      "cell_type": "code",
      "execution_count": null,
      "metadata": {
        "id": "sxiBTjsyWxx7"
      },
      "outputs": [],
      "source": [
        "from bs4 import BeautifulSoup \n",
        "import csv\n",
        "import re"
      ]
    },
    {
      "cell_type": "code",
      "execution_count": null,
      "metadata": {
        "id": "QLV6nnH5XDgI"
      },
      "outputs": [],
      "source": [
        "file_path = \"wiki_data\"\n",
        "\n",
        "with open(file_path, 'r') as f:\n",
        "    data = f.read()"
      ]
    },
    {
      "cell_type": "code",
      "execution_count": null,
      "metadata": {
        "id": "V9ptWYgFXKUt"
      },
      "outputs": [],
      "source": [
        "soup = BeautifulSoup(data, \"html.parser\")\n",
        "required0 = soup.find_all(\"title\")\n",
        "\n",
        "title = []\n",
        "for i in required0:\n",
        "    temp1 = i.get_text()\n",
        "    temp1 = re.sub(\"/Test\",\"\",temp1)\n",
        "    temp1 = re.sub(\"/\",\" \",temp1)\n",
        "    temp1 = re.sub(\"\",\"\",temp1)\n",
        "    title.append(temp1)\n",
        "\n",
        "print(\"total title by soup\",len(required0))\n",
        "print(\"total title added in list \",len(title))"
      ]
    },
    {
      "cell_type": "code",
      "execution_count": null,
      "metadata": {
        "id": "kacKcAJPXfgy"
      },
      "outputs": [],
      "source": [
        "required0 = soup.find_all(\"text\")\n",
        "print(\"total text by soup\",len(required0))\n",
        "title_number_dict = {}\n",
        "number_title_dict = {}\n",
        "k = 0"
      ]
    },
    {
      "cell_type": "code",
      "execution_count": null,
      "metadata": {
        "id": "DHOhWEnbXh_Z"
      },
      "outputs": [],
      "source": [
        "for i in required0:\n",
        "    temp = i.get_text()\n",
        "    temp = re.sub(\"\\[\\[File:.*\\]\\]\",\"\",temp)\n",
        "    temp = re.sub(\"{\\|\\sclass(.*\\n)*?\\|}\",\"\",temp)\n",
        "    temp = re.sub(\"{\\|class(.*\\n)*?\\|}\",\"\",temp)\n",
        "    temp = re.sub(\"{{Infobox\\s(.*\\n)*?}}\",\"\",temp)\n",
        "    # temp = re.sub(\"<gallery(.*\\n*)*?</gallery>\",\"\",temp)\n",
        "    temp = re.sub(\"\\*\\s{{cite\\s.*?}}\",\"\",temp)\n",
        "    temp = re.sub(\"{{cite(.*?\\n)*?.*}}\",\"\",temp)\n",
        "    temp = re.sub(\"{{Cite(.*?\\n)*?.*}}\",\"\",temp)\n",
        "    temp = re.sub(\"<.*?>\",\"\",temp)\n",
        "    temp = re.sub(\"==References(.*\\n)*|==\\sReferences(.*\\n)*\",\"\",temp)\n",
        "    temp = re.sub(\"{{Collapse.*}}\",\"\",temp)\n",
        "    temp = re.sub(\"{{automatic\\s(.*\\n)*?}}\",\"\",temp)\n",
        "    temp = re.sub(\"{{(.*)?}}|{{(.*\\n)*\\|}}\",\"\",temp)\n",
        "    temp = re.sub(\"{{(.*\\n)*}}\",\"\",temp)\n",
        "    temp = re.sub(\"\\[|\\]|\\*\",\"\",temp)\n",
        "    temp = re.sub(\"==|\\*\",\"\",temp)\n",
        "    temp = re.sub(\"http.*\\n\",\"\",temp)\n",
        "    temp = re.sub(\"{\\|(.*\\n)*\\|}\",\"\",temp)  \n",
        "    temp = re.sub(\"{{ndash}}\",\"\",temp)\n",
        "\n",
        "    title_number_dict.__setitem__(title[k],k)\n",
        "    number_title_dict.__setitem__(k,title[k])\n",
        "    \n",
        "    file_name = \"./articles_all/\" + title[k] + \".txt\"\n",
        "    print('Web page saved for : ', k+1 ,title[k] )\n",
        "    k = k+1\n",
        "    page_content = temp\n",
        "    with open(file_name,'w',encoding='utf8') as file_pointer:\n",
        "        file_pointer.write(page_content)\n",
        "    file_pointer.close"
      ]
    },
    {
      "cell_type": "code",
      "execution_count": null,
      "metadata": {
        "id": "BbEE_14WXlI8"
      },
      "outputs": [],
      "source": [
        "print(\"total webpage saved\",k)\n",
        "print(\"total element in title_number_dict\",len(title_number_dict))\n",
        "print(\"total element in number_title_dict\",len(number_title_dict))\n",
        "\n",
        "print(title_number_dict)\n",
        "print(number_title_dict)"
      ]
    }
  ],
  "metadata": {
    "colab": {
      "name": "1_Data_extraction_to_files.ipynb",
      "provenance": []
    },
    "kernelspec": {
      "display_name": "Python 3",
      "name": "python3"
    },
    "language_info": {
      "codemirror_mode": {
        "name": "ipython",
        "version": 3
      },
      "file_extension": ".py",
      "mimetype": "text/x-python",
      "name": "python",
      "nbconvert_exporter": "python",
      "pygments_lexer": "ipython3",
      "version": "3.9.7"
    }
  },
  "nbformat": 4,
  "nbformat_minor": 0
}
